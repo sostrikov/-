{
  "nbformat": 4,
  "nbformat_minor": 0,
  "metadata": {
    "kernelspec": {
      "display_name": "Python 3",
      "language": "python",
      "name": "python3"
    },
    "language_info": {
      "codemirror_mode": {
        "name": "ipython",
        "version": 3
      },
      "file_extension": ".py",
      "mimetype": "text/x-python",
      "name": "python",
      "nbconvert_exporter": "python",
      "pygments_lexer": "ipython3",
      "version": "3.7.1"
    },
    "colab": {
      "name": "Victor.ipynb",
      "version": "0.3.2",
      "provenance": [],
      "include_colab_link": true
    }
  },
  "cells": [
    {
      "cell_type": "markdown",
      "metadata": {
        "id": "view-in-github",
        "colab_type": "text"
      },
      "source": [
        "<a href=\"https://colab.research.google.com/github/sostrikov/-/blob/master/Victor.ipynb\" target=\"_parent\"><img src=\"https://colab.research.google.com/assets/colab-badge.svg\" alt=\"Open In Colab\"/></a>"
      ]
    },
    {
      "cell_type": "code",
      "metadata": {
        "id": "9BmaraAV3-iu",
        "colab_type": "code",
        "outputId": "74b159d8-2fca-4787-fe1f-92a7db820153",
        "colab": {
          "base_uri": "https://localhost:8080/",
          "height": 348
        }
      },
      "source": [
        "!pip install pandas\n",
        "!pip install sklearn\n",
        "!pip install matplotlib"
      ],
      "execution_count": 0,
      "outputs": [
        {
          "output_type": "stream",
          "text": [
            "Requirement already satisfied: pandas in /usr/local/lib/python3.6/dist-packages (0.24.2)\n",
            "Requirement already satisfied: python-dateutil>=2.5.0 in /usr/local/lib/python3.6/dist-packages (from pandas) (2.5.3)\n",
            "Requirement already satisfied: pytz>=2011k in /usr/local/lib/python3.6/dist-packages (from pandas) (2018.9)\n",
            "Requirement already satisfied: numpy>=1.12.0 in /usr/local/lib/python3.6/dist-packages (from pandas) (1.16.4)\n",
            "Requirement already satisfied: six>=1.5 in /usr/local/lib/python3.6/dist-packages (from python-dateutil>=2.5.0->pandas) (1.12.0)\n",
            "Requirement already satisfied: sklearn in /usr/local/lib/python3.6/dist-packages (0.0)\n",
            "Requirement already satisfied: scikit-learn in /usr/local/lib/python3.6/dist-packages (from sklearn) (0.21.3)\n",
            "Requirement already satisfied: numpy>=1.11.0 in /usr/local/lib/python3.6/dist-packages (from scikit-learn->sklearn) (1.16.4)\n",
            "Requirement already satisfied: joblib>=0.11 in /usr/local/lib/python3.6/dist-packages (from scikit-learn->sklearn) (0.13.2)\n",
            "Requirement already satisfied: scipy>=0.17.0 in /usr/local/lib/python3.6/dist-packages (from scikit-learn->sklearn) (1.3.1)\n",
            "Requirement already satisfied: matplotlib in /usr/local/lib/python3.6/dist-packages (3.0.3)\n",
            "Requirement already satisfied: python-dateutil>=2.1 in /usr/local/lib/python3.6/dist-packages (from matplotlib) (2.5.3)\n",
            "Requirement already satisfied: kiwisolver>=1.0.1 in /usr/local/lib/python3.6/dist-packages (from matplotlib) (1.1.0)\n",
            "Requirement already satisfied: pyparsing!=2.0.4,!=2.1.2,!=2.1.6,>=2.0.1 in /usr/local/lib/python3.6/dist-packages (from matplotlib) (2.4.2)\n",
            "Requirement already satisfied: numpy>=1.10.0 in /usr/local/lib/python3.6/dist-packages (from matplotlib) (1.16.4)\n",
            "Requirement already satisfied: cycler>=0.10 in /usr/local/lib/python3.6/dist-packages (from matplotlib) (0.10.0)\n",
            "Requirement already satisfied: six>=1.5 in /usr/local/lib/python3.6/dist-packages (from python-dateutil>=2.1->matplotlib) (1.12.0)\n",
            "Requirement already satisfied: setuptools in /usr/local/lib/python3.6/dist-packages (from kiwisolver>=1.0.1->matplotlib) (41.2.0)\n"
          ],
          "name": "stdout"
        }
      ]
    },
    {
      "cell_type": "markdown",
      "metadata": {
        "id": "Kq5Kv_oK3-ka",
        "colab_type": "text"
      },
      "source": [
        "# Репозиторий !!!!\n",
        "UCI (UCI Machine Learning Repository)\n",
        "https://archive.ics.uci.edu/ml/datasets.php\n",
        "http://econ.sciences-po.fr/thierry-mayer/data\n",
        "https://towardsdatascience.com/top-sources-for-machine-learning-datasets-bb6d0dc3378b\n",
        "\n",
        "## https://github.com/jupyter/jupyter/wiki/A-gallery-of-interesting-Jupyter-Notebooks#economics-and-finance\n",
        "\n",
        "https://github.com/rsvp/fecon235/blob/master/nb/fred-eurozone.ipynb\n",
        "\n",
        "Пример решения задачи множественной регрессии с помощью Python"
      ]
    },
    {
      "cell_type": "markdown",
      "metadata": {
        "id": "tuwg_FaO3-kq",
        "colab_type": "text"
      },
      "source": [
        "## Загружаем необходимые библиотеки и файл с данными"
      ]
    },
    {
      "cell_type": "code",
      "metadata": {
        "id": "DfqXlqu13-kv",
        "colab_type": "code",
        "outputId": "fab21f94-630b-4dc6-a821-049c7d004802",
        "colab": {
          "base_uri": "https://localhost:8080/",
          "height": 1000
        }
      },
      "source": [
        "import pandas as pd\n",
        "from pandas import read_csv, DataFrame\n",
        "from sklearn.neighbors import KNeighborsRegressor\n",
        "from sklearn.linear_model import LinearRegression, LogisticRegression\n",
        "from sklearn.svm import SVR\n",
        "from sklearn.ensemble import RandomForestRegressor\n",
        "from sklearn.metrics import r2_score\n",
        "#from sklearn.cross_validation import train_test_split\n",
        "from sklearn.model_selection import train_test_split\n",
        "from matplotlib import pyplot as plt\n",
        "plt.style.use('ggplot')\n",
        "#plt.style.use('seaborn-pastel')\n",
        "print(plt.style.available)\n",
        "%matplotlib inline\n",
        "\n",
        "\n",
        "#Загружаем данные из файла на компьютере\n",
        "#from google.colab import files\n",
        "#uploaded = files.upload()\n",
        "#import io\n",
        "#dataset = pd.read_csv(io.BytesIO(uploaded['ENB2012_data.csv']),decimal=\",\",delimiter=\";\")# Dataset is now stored in a Pandas Dataframe\n",
        "\n",
        "# Загружаем файл из репозитория на GitHub\n",
        "url = 'https://github.com/sostrikov/juputer/blob/master/ENB2012_data2.csv'\n",
        "\n",
        "#dataset = pd.read_csv('ENB2012_data.csv',decimal=\",\",delimiter=\";\")\n",
        "# Выводим верхние строки таблицы\n",
        "print(dataset.head())\n",
        "\n",
        "print(\"Колонка Y1:\\n{}\".format(dataset['Y1']))"
      ],
      "execution_count": 24,
      "outputs": [
        {
          "output_type": "stream",
          "text": [
            "['dark_background', 'grayscale', 'seaborn-dark-palette', 'seaborn-white', 'seaborn-ticks', 'seaborn-whitegrid', 'fast', 'seaborn', 'seaborn-poster', 'tableau-colorblind10', 'seaborn-bright', 'seaborn-paper', 'seaborn-dark', 'classic', 'seaborn-notebook', 'Solarize_Light2', 'seaborn-talk', 'seaborn-colorblind', 'fivethirtyeight', 'seaborn-darkgrid', 'seaborn-muted', 'seaborn-pastel', '_classic_test', 'bmh', 'ggplot', 'seaborn-deep']\n",
            "     X1     X2     X3      X4   X5  X6   X7  X8     Y1     Y2\n",
            "0  0.98  514.5  294.0  110.25  7.0   2  0.0   0  15.55  21.33\n",
            "1  0.98  514.5  294.0  110.25  7.0   3  0.0   0  15.55  21.33\n",
            "2  0.98  514.5  294.0  110.25  7.0   4  0.0   0  15.55  21.33\n",
            "3  0.98  514.5  294.0  110.25  7.0   5  0.0   0  15.55  21.33\n",
            "4  0.90  563.5  318.5  122.50  7.0   2  0.0   0  20.84  28.28\n",
            "Колонка Y1:\n",
            "0      15.55\n",
            "1      15.55\n",
            "2      15.55\n",
            "3      15.55\n",
            "4      20.84\n",
            "5      21.46\n",
            "6      20.71\n",
            "7      19.68\n",
            "8      19.50\n",
            "9      19.95\n",
            "10     19.34\n",
            "11     18.31\n",
            "12     17.05\n",
            "13     17.41\n",
            "14     16.95\n",
            "15     15.98\n",
            "16     28.52\n",
            "17     29.90\n",
            "18     29.63\n",
            "19     28.75\n",
            "20     24.77\n",
            "21     23.93\n",
            "22     24.77\n",
            "23     23.93\n",
            "24      6.07\n",
            "25      6.05\n",
            "26      6.01\n",
            "27      6.04\n",
            "28      6.37\n",
            "29      6.40\n",
            "       ...  \n",
            "738    41.09\n",
            "739    40.79\n",
            "740    38.82\n",
            "741    39.72\n",
            "742    39.31\n",
            "743    39.86\n",
            "744    14.41\n",
            "745    14.19\n",
            "746    14.17\n",
            "747    14.39\n",
            "748    12.43\n",
            "749    12.63\n",
            "750    12.76\n",
            "751    12.42\n",
            "752    14.12\n",
            "753    14.28\n",
            "754    14.37\n",
            "755    14.21\n",
            "756    14.96\n",
            "757    14.92\n",
            "758    14.92\n",
            "759    15.16\n",
            "760    17.69\n",
            "761    18.19\n",
            "762    18.16\n",
            "763    17.88\n",
            "764    16.54\n",
            "765    16.44\n",
            "766    16.64\n",
            "767    16.48\n",
            "Name: Y1, Length: 768, dtype: float64\n"
          ],
          "name": "stdout"
        }
      ]
    },
    {
      "cell_type": "code",
      "metadata": {
        "id": "yrkeNcGA4pW9",
        "colab_type": "code",
        "colab": {}
      },
      "source": [
        ""
      ],
      "execution_count": 0,
      "outputs": []
    },
    {
      "cell_type": "markdown",
      "metadata": {
        "id": "YNHqh6z13-lC",
        "colab_type": "text"
      },
      "source": [
        "## Проверяем на наличие нужных колонок и отсутствие пустых колонок"
      ]
    },
    {
      "cell_type": "code",
      "metadata": {
        "id": "-6p3LvhZ3-lN",
        "colab_type": "code",
        "colab": {}
      },
      "source": [
        "dataset.columns"
      ],
      "execution_count": 0,
      "outputs": []
    },
    {
      "cell_type": "markdown",
      "metadata": {
        "id": "D8BCU1iL3-lf",
        "colab_type": "text"
      },
      "source": [
        "## Проверяем корректность типов данных"
      ]
    },
    {
      "cell_type": "code",
      "metadata": {
        "id": "I1V-m3Ro3-lk",
        "colab_type": "code",
        "colab": {}
      },
      "source": [
        "print(dataset.info())"
      ],
      "execution_count": 0,
      "outputs": []
    },
    {
      "cell_type": "markdown",
      "metadata": {
        "id": "_aNvhekf3-l6",
        "colab_type": "text"
      },
      "source": [
        "## Проверяем на наличие нулевых (NULL) данных"
      ]
    },
    {
      "cell_type": "code",
      "metadata": {
        "id": "72ZujLAf3-l-",
        "colab_type": "code",
        "colab": {}
      },
      "source": [
        "dataset.isnull().values.any()"
      ],
      "execution_count": 0,
      "outputs": []
    },
    {
      "cell_type": "markdown",
      "metadata": {
        "id": "mjpETp0d3-mQ",
        "colab_type": "text"
      },
      "source": [
        "## Определяем размерность данных"
      ]
    },
    {
      "cell_type": "code",
      "metadata": {
        "id": "zC4R4Oft3-mV",
        "colab_type": "code",
        "colab": {}
      },
      "source": [
        "dataset.shape"
      ],
      "execution_count": 0,
      "outputs": []
    },
    {
      "cell_type": "markdown",
      "metadata": {
        "id": "wqpJnFqG3-ms",
        "colab_type": "text"
      },
      "source": [
        "##  Получим некоторую сводную информацию по всей таблице.\n",
        "Это общее их количество (count), среднее значение (mean), стандартное отклонение (std), минимальное (min), макcимальное (max) значения, медиана (50%) и значения нижнего (25%) и верхнего (75%) квартилей:"
      ]
    },
    {
      "cell_type": "code",
      "metadata": {
        "id": "Jxav7N3H3-mw",
        "colab_type": "code",
        "colab": {}
      },
      "source": [
        "dataset.describe()\n",
        "\n",
        "#dataset.groupby('Y1')['Y2'].describe()"
      ],
      "execution_count": 0,
      "outputs": []
    },
    {
      "cell_type": "markdown",
      "metadata": {
        "id": "phcN5RUf3-nH",
        "colab_type": "text"
      },
      "source": [
        "## Определяем корреляцию между ячейками\n",
        "\n",
        "Построим корреляционную матрицу. Все ее недиагональные положительнын значения относительно Y1 и Y2"
      ]
    },
    {
      "cell_type": "code",
      "metadata": {
        "id": "g0J2l4373-nP",
        "colab_type": "code",
        "colab": {}
      },
      "source": [
        "dataset.corr()"
      ],
      "execution_count": 0,
      "outputs": []
    },
    {
      "cell_type": "markdown",
      "metadata": {
        "id": "A40Gox093-n2",
        "colab_type": "text"
      },
      "source": [
        "## Уберем лишние столбцы\n",
        "\n",
        "### Еще можно удалить строки или столбцы с пустыми значениями:\n",
        "    удалить столбцы с такими значениями (dataset = dataset.dropna(axis=1)),\n",
        "    удалить строки с такими значениями (dataset = dataset.dropna(axis=0)).\n",
        "### Можно заполнить элементы с пустыми значениями\n",
        "    dataset = dataset.fillna(dataset.median(axis=0), axis=0)\n"
      ]
    },
    {
      "cell_type": "code",
      "metadata": {
        "scrolled": true,
        "id": "JgCT_DYt3-n8",
        "colab_type": "code",
        "colab": {}
      },
      "source": [
        "\n",
        "dataset = dataset.drop(['X2','X4','X7'], axis=1)\n",
        "dataset.head()"
      ],
      "execution_count": 0,
      "outputs": []
    },
    {
      "cell_type": "markdown",
      "metadata": {
        "id": "ldNO3AIe3-oS",
        "colab_type": "text"
      },
      "source": [
        "## Построим диаграмму рассеивания"
      ]
    },
    {
      "cell_type": "code",
      "metadata": {
        "id": "YEroAd-F3-oW",
        "colab_type": "code",
        "colab": {}
      },
      "source": [
        "dataset.plot.scatter(x='Y1', y='Y2', color = 'green')\n",
        "plt.title('Зависимость Y2 от Y1')\n"
      ],
      "execution_count": 0,
      "outputs": []
    },
    {
      "cell_type": "markdown",
      "metadata": {
        "id": "L-ejJX5h3-oz",
        "colab_type": "text"
      },
      "source": [
        "Функция scatter_matrix из модуля pandas.plotting позволяет построить для каждой количественной переменной гистограмму, а для каждой пары таких переменных – диаграмму рассеяния:"
      ]
    },
    {
      "cell_type": "code",
      "metadata": {
        "id": "5ykKQnFi3-o3",
        "colab_type": "code",
        "colab": {}
      },
      "source": [
        "from pandas.plotting import scatter_matrix\n",
        "scatter_matrix(dataset, alpha=0.05, figsize=(10, 10));"
      ],
      "execution_count": 0,
      "outputs": []
    },
    {
      "cell_type": "markdown",
      "metadata": {
        "id": "gD4snQVB3-pL",
        "colab_type": "text"
      },
      "source": [
        "## После обработки данных можно перейти к построению модели.\n",
        "\n",
        "Для построения модели будем использовать следующие методы:\n",
        "\n",
        "    Метод наименьших квадратов\n",
        "    Случайный лес\n",
        "    Логистическую регрессию\n",
        "    Метод опорных векторов\n",
        "    Метод ближайших соседей\n",
        "Оценку будем производить с помощью коэффициента детерминации (R-квадрат). Данный коэффициент определяется следующим образом:\n",
        "\n",
        "[LaTeX:R^2 = 1 - \\frac{V(y|x)}{V(y)} = 1 - \\frac{\\sigma^2}{\\sigma_y^2}]\n",
        "\n",
        ", где image — условная дисперсия зависимой величины у по фактору х.\n",
        "Коэффициент принимает значение на промежутке [LaTeX:[0,1]] и чем он ближе к 1 тем сильнее зависимость.\n",
        "Ну что же теперь можно перейти непосредственно к построению модели и выбору модели. Давайте поместим все наши модели в один список для удобства дальнейшего анализа:"
      ]
    },
    {
      "cell_type": "code",
      "metadata": {
        "id": "bpiwf1l93-pQ",
        "colab_type": "code",
        "colab": {}
      },
      "source": [
        "models = [LinearRegression(), # метод наименьших квадратов\n",
        "\t          RandomForestRegressor(n_estimators=100, max_features ='sqrt'), # случайный лес\n",
        "\t          KNeighborsRegressor(n_neighbors=6), # метод ближайших соседей\n",
        "\t          SVR(kernel='linear'), # метод опорных векторов с линейным ядром\n",
        "\t          LogisticRegression() # логистическая регрессия\n",
        "\t          ]"
      ],
      "execution_count": 0,
      "outputs": []
    },
    {
      "cell_type": "markdown",
      "metadata": {
        "id": "LQtb0MXM3-pb",
        "colab_type": "text"
      },
      "source": [
        "## Разбиваем данные на обучающую (30%) и тестовую последовательность(70%) используя train_test_split"
      ]
    },
    {
      "cell_type": "code",
      "metadata": {
        "id": "RNpg6DUb3-pf",
        "colab_type": "code",
        "colab": {}
      },
      "source": [
        "#separating independent and dependent variable\n",
        "trg = dataset[['Y1']] # В качестве управляемых переменных Y1,Y2\n",
        "trn = dataset.drop(['Y1'], axis=1) # В качестве неуправляемых переменных все X\n",
        "\n",
        "Xtrain, Xtest, Ytrain, Ytest = train_test_split(trn, trg, test_size=0.3, random_state = 11)\n",
        "N_train = Xtrain.shape \n",
        "N_test = Xtest.shape \n",
        "print (N_train, N_test)\n",
        "\n",
        "\n",
        "#Ytrain\n",
        "#Xtrain\n"
      ],
      "execution_count": 0,
      "outputs": []
    },
    {
      "cell_type": "markdown",
      "metadata": {
        "id": "OiZ0Oc6l3-pz",
        "colab_type": "text"
      },
      "source": [
        "## Устанавливаем разные типы регрессии, обучаем модель, проверяем модель на тестовых данных."
      ]
    },
    {
      "cell_type": "markdown",
      "metadata": {
        "id": "VCTfElZs3-p1",
        "colab_type": "text"
      },
      "source": [
        "### Линейная регрессия"
      ]
    },
    {
      "cell_type": "code",
      "metadata": {
        "id": "YySU3kos3-p4",
        "colab_type": "code",
        "colab": {}
      },
      "source": [
        "model1 = LinearRegression()\n",
        "\n",
        "m1 = str(model1)\n",
        "model1.fit(Xtrain, Ytrain)\n",
        "\n",
        "# Predicting the Test set results\n",
        "Ypred = model1.predict(Xtest)\n",
        "print(\"Линейная регрессия - правильность на обучающем наборе: {:.2f}\".format(model1.score(Xtrain, Ytrain)))                       \n",
        "print(\"Линейная регрессия - правильность на тестовом наборе: {:.2f}\".format(model1.score(Xtest, Ytest)))\n",
        "\n"
      ],
      "execution_count": 0,
      "outputs": []
    },
    {
      "cell_type": "code",
      "metadata": {
        "id": "talt3j4I3-qm",
        "colab_type": "code",
        "colab": {}
      },
      "source": [
        "X2 = dataset.iloc[:, 5].values  # dataset.iloc[:, :-1].values Matrix of independent variables -- remove the last column in this data set\n",
        "Y2 = dataset.iloc[:, 6].values    # Matrix of dependent variables -- just the last column (1 == 2nd column)\n",
        "\n"
      ],
      "execution_count": 0,
      "outputs": []
    },
    {
      "cell_type": "markdown",
      "metadata": {
        "id": "9N-7-txV3-qz",
        "colab_type": "text"
      },
      "source": [
        "### Случайный лес"
      ]
    },
    {
      "cell_type": "code",
      "metadata": {
        "id": "wjI_Se6L3-q3",
        "colab_type": "code",
        "colab": {}
      },
      "source": [
        "model1= RandomForestRegressor(n_estimators=100, max_features ='sqrt')\n",
        "m1 = str(model1)\n",
        "model1.fit(Xtrain, Ytrain)\n",
        "\n",
        "# Predicting the Test set results\n",
        "#Ypred = model1.predict(Xtest)\n",
        "\n",
        "print(\"Случайный лес - правильность на обучающем наборе: {:.2f}\".format(model1.score(Xtrain, Ytrain)))                       \n",
        "print(\"Случайный лес - правильность на тестовом наборе: {:.2f}\".format(model1.score(Xtest, Ytest)))"
      ],
      "execution_count": 0,
      "outputs": []
    },
    {
      "cell_type": "markdown",
      "metadata": {
        "id": "v7ugMgjX3-rE",
        "colab_type": "text"
      },
      "source": [
        "Мы применили метод score к тестовым данным и тестовым ответам и обнаружили, что наша\n",
        "модель демонстрирует правильность около 72%. Это означает, что модель\n",
        "выдает правильные прогнозы для 72% наблюдений тестового набора."
      ]
    },
    {
      "cell_type": "markdown",
      "metadata": {
        "id": "T8KbUZAS3-rG",
        "colab_type": "text"
      },
      "source": [
        "## Метод ближайших соседей"
      ]
    },
    {
      "cell_type": "code",
      "metadata": {
        "id": "fWJn63P_3-rJ",
        "colab_type": "code",
        "colab": {}
      },
      "source": [
        "# SVR(kernel='linear'), # метод опорных векторов с линейным ядром\n",
        "# LogisticRegression() # логистическая регрессия\n",
        "\n",
        "model1= KNeighborsRegressor(n_neighbors=4)\n",
        "m1 = str(model1)\n",
        "model1.fit(Xtrain, Ytrain)\n",
        "\n",
        "# Predicting the Test set results\n",
        "Ypred = model1.predict(Xtest)\n",
        "\n",
        "print(\"Ближайших соседей - правильность на обучающем наборе: {:.2f}\".format(model1.score(Xtrain, Ytrain)))                       \n",
        "print(\"Ближайших соседей - правильность на тестовом наборе: {:.2f}\".format(model1.score(Xtest, Ytest)))"
      ],
      "execution_count": 0,
      "outputs": []
    },
    {
      "cell_type": "markdown",
      "metadata": {
        "id": "I3rz7-sC3-ri",
        "colab_type": "text"
      },
      "source": [
        "## Метод логистическая регрессия"
      ]
    },
    {
      "cell_type": "code",
      "metadata": {
        "id": "dk_tREeR3-rs",
        "colab_type": "code",
        "colab": {}
      },
      "source": [
        "# логистическая регрессия\n",
        "# create and configure model\n",
        "model1 = LogisticRegression(solver='lbfgs')\n",
        " \t\n",
        "# create and configure model\n",
        "#model1 = LogisticRegression(solver='lbfgs', multi_class='ovr')\n",
        "m1 = str(model1)\n",
        "model1.fit(Xtrain, Ytrain)\n",
        "\n",
        "# Predicting the Test set results\n",
        "Ypred = model1.predict(Xtest)\n",
        "\n",
        "print(\"Метод опорных векторов с линейным ядром - правильность на обучающем наборе: {:.2f}\".format(model1.score(Xtrain, Ytrain)))                       \n",
        "print(\"Метод опорных векторов с линейным ядром - правильность на тестовом наборе: {:.2f}\".format(model1.score(Xtest, Ytest)))"
      ],
      "execution_count": 0,
      "outputs": []
    },
    {
      "cell_type": "code",
      "metadata": {
        "id": "L9KFKWx73-r_",
        "colab_type": "code",
        "colab": {}
      },
      "source": [
        "#import matplotlib.pyplot as plt\n",
        "\n",
        "plt.scatter(Xtrain, Ytrain, color = 'green')\n",
        "plt.scatter(Xtest, Ytest, color = 'red')   \n",
        "plt.scatter(Xtest, Ypred, color = 'blue')  # The predicted temperatures of the same X_test input.\n",
        "plt.plot(Xtrain, model1.predict(Xtrain), color = 'gray')\n",
        "plt.title('Temperature based on chirp count')\n",
        "plt.xlabel('Chirps/minute')\n",
        "plt.ylabel('Temperature')\n",
        "plt.show()"
      ],
      "execution_count": 0,
      "outputs": []
    },
    {
      "cell_type": "markdown",
      "metadata": {
        "id": "gqZf3pQt3-sJ",
        "colab_type": "text"
      },
      "source": [
        "# Пример на датасете Бостон"
      ]
    },
    {
      "cell_type": "code",
      "metadata": {
        "id": "yVSIqvcY3-sP",
        "colab_type": "code",
        "colab": {}
      },
      "source": [
        "from sklearn.datasets import load_boston\n",
        "boston = load_boston()\n",
        "r = boston.data.shape\n",
        "r"
      ],
      "execution_count": 0,
      "outputs": []
    },
    {
      "cell_type": "code",
      "metadata": {
        "id": "fcwSvk_f3-sc",
        "colab_type": "code",
        "colab": {}
      },
      "source": [
        "import numpy as np\n",
        "import matplotlib\n",
        "import matplotlib.pyplot as plt\n",
        "from distutils.version import LooseVersion\n",
        "from sklearn.datasets import load_boston\n",
        "from sklearn.preprocessing import QuantileTransformer, quantile_transform\n",
        "from sklearn.datasets import make_regression\n",
        "from sklearn.model_selection import train_test_split\n",
        "from sklearn.linear_model import RidgeCV\n",
        "from sklearn.compose import TransformedTargetRegressor\n",
        "from sklearn.metrics import median_absolute_error, r2_score\n",
        "\n",
        "dataset = load_boston()\n",
        "target = np.array(dataset.feature_names) == \"DIS\"\n",
        "\n",
        "X = dataset.data[:, np.logical_not(target)]\n",
        "y = dataset.data[:, target].squeeze()\n",
        "y_trans = quantile_transform(dataset.data[:, target],\n",
        "                             n_quantiles=300,\n",
        "                             output_distribution='normal',\n",
        "                             copy=True).squeeze()\n",
        "\n"
      ],
      "execution_count": 0,
      "outputs": []
    },
    {
      "cell_type": "code",
      "metadata": {
        "id": "KD30DYen3-sw",
        "colab_type": "code",
        "colab": {}
      },
      "source": [
        "# `normed` is being deprecated in favor of `density` in histograms\n",
        "if LooseVersion(matplotlib.__version__) >= '2.1':\n",
        "    density_param = {'density': True}\n",
        "else:\n",
        "    density_param = {'normed': True}\n",
        "    "
      ],
      "execution_count": 0,
      "outputs": []
    },
    {
      "cell_type": "code",
      "metadata": {
        "id": "BwNYtimX3-tb",
        "colab_type": "code",
        "colab": {}
      },
      "source": [
        "X, y = make_regression(n_samples=10000, noise=100, random_state=0)\n",
        "y = np.exp((y + abs(y.min())) / 200)\n",
        "y_trans = np.log1p(y)"
      ],
      "execution_count": 0,
      "outputs": []
    },
    {
      "cell_type": "code",
      "metadata": {
        "id": "P-7sZVP53-tl",
        "colab_type": "code",
        "colab": {}
      },
      "source": [
        "f, (ax0, ax1) = plt.subplots(1, 2)\n",
        "\n",
        "ax0.hist(y, bins=100, **density_param)\n",
        "ax0.set_xlim([0, 2000])\n",
        "ax0.set_ylabel('Probability')\n",
        "ax0.set_xlabel('Target')\n",
        "ax0.set_title('Target distribution')\n",
        "\n",
        "ax1.hist(y_trans, bins=100, **density_param)\n",
        "ax1.set_ylabel('Probability')\n",
        "ax1.set_xlabel('Target')\n",
        "ax1.set_title('Transformed target distribution')\n",
        "\n",
        "f.suptitle(\"Synthetic data\", y=0.035)\n",
        "f.tight_layout(rect=[0.05, 0.05, 0.95, 0.95])\n",
        "\n",
        "X_train, X_test, y_train, y_test = train_test_split(X, y, random_state=0)"
      ],
      "execution_count": 0,
      "outputs": []
    },
    {
      "cell_type": "markdown",
      "metadata": {
        "id": "dA-IRDM43-tu",
        "colab_type": "text"
      },
      "source": [
        "# Пример на реальных данных Бостон"
      ]
    },
    {
      "cell_type": "code",
      "metadata": {
        "id": "k_6tINU_3-t2",
        "colab_type": "code",
        "colab": {}
      },
      "source": [
        "from sklearn.datasets import load_boston\n",
        "from sklearn.preprocessing import QuantileTransformer, quantile_transform\n",
        "\n",
        "dataset = load_boston()\n",
        "target = np.array(dataset.feature_names) == \"DIS\"\n",
        "X = dataset.data[:, np.logical_not(target)]\n",
        "y = dataset.data[:, target].squeeze()\n",
        "y_trans = quantile_transform(dataset.data[:, target],\n",
        "                             n_quantiles=300,\n",
        "                             output_distribution='normal',\n",
        "                             copy=True).squeeze()"
      ],
      "execution_count": 0,
      "outputs": []
    },
    {
      "cell_type": "code",
      "metadata": {
        "id": "vMjITyGH3-uC",
        "colab_type": "code",
        "colab": {}
      },
      "source": [
        "#Делаем заготовку под две картинки\n",
        "f, (ax0, ax1) = plt.subplots(1, 2)\n",
        "# Атрибуты первой картинки\n",
        "ax0.hist(y, bins=100, **density_param)\n",
        "ax0.set_ylabel('Probability')\n",
        "ax0.set_xlabel('Target')\n",
        "ax0.set_title('Target distribution')\n",
        "\n",
        "# Атрибуты второй картинки\n",
        "ax1.hist(y_trans, bins=100, **density_param)\n",
        "ax1.set_ylabel('Probability')\n",
        "ax1.set_xlabel('Target')\n",
        "ax1.set_title('Transformed target distribution')\n",
        "\n",
        "f.suptitle(\"Boston housing data: distance to employment centers\", y=0.035)\n",
        "f.tight_layout(rect=[0.05, 0.05, 0.95, 0.95])\n",
        "\n",
        "# Разбиваем данные на обучающую и тестовую последовательность\n",
        "X_train, X_test, y_train, y_test = train_test_split(X, y, random_state=1)\n",
        "\n"
      ],
      "execution_count": 0,
      "outputs": []
    },
    {
      "cell_type": "code",
      "metadata": {
        "id": "z0mX0M-u3-uK",
        "colab_type": "code",
        "colab": {}
      },
      "source": [
        "#X_train\n",
        "#y_train"
      ],
      "execution_count": 0,
      "outputs": []
    },
    {
      "cell_type": "code",
      "metadata": {
        "id": "Dd_2NqiG3-uQ",
        "colab_type": "code",
        "colab": {}
      },
      "source": [
        "f, (ax0, ax1) = plt.subplots(1, 2, sharey=True)\n",
        "# Определяем тип регрессии Ridge regression\n",
        "regr = RidgeCV()\n",
        "# Обучаем модель\n",
        "regr.fit(X_train, y_train)\n",
        "\n",
        "y_pred = regr.predict(X_test)\n",
        "\n",
        "ax0.scatter(y_test, y_pred)\n",
        "ax0.plot([0, 10], [0, 10], '--k')\n",
        "ax0.set_ylabel('Target predicted')\n",
        "ax0.set_xlabel('True Target')\n",
        "ax0.set_title('Ridge regression \\n without target transformation')\n",
        "ax0.text(1, 9, r'$R^2$=%.2f, MAE=%.2f' % (\n",
        "    r2_score(y_test, y_pred), median_absolute_error(y_test, y_pred)))\n",
        "ax0.set_xlim([0, 10])\n",
        "ax0.set_ylim([0, 10])\n",
        "\n",
        "regr_trans = TransformedTargetRegressor(\n",
        "    regressor=RidgeCV(),\n",
        "    transformer=QuantileTransformer(n_quantiles=300,\n",
        "                                    output_distribution='normal'))\n",
        "# ---------------Обучаем модель----------------------------------------------\n",
        "regr_trans.fit(X_train, y_train)\n",
        "\n",
        "y_pred = regr_trans.predict(X_test)\n",
        "\n",
        "ax1.scatter(y_test, y_pred)\n",
        "ax1.plot([0, 10], [0, 10], '--k')\n",
        "ax1.set_ylabel('Target predicted')\n",
        "ax1.set_xlabel('True Target')\n",
        "ax1.set_title('Ridge regression \\n with target transformation')\n",
        "ax1.text(1, 9, r'$R^2$=%.2f, MAE=%.2f' % (\n",
        "    r2_score(y_test, y_pred), median_absolute_error(y_test, y_pred)))\n",
        "ax1.set_xlim([0, 10])\n",
        "ax1.set_ylim([0, 10])\n",
        "\n",
        "f.suptitle(\"Boston housing data: distance to employment centers\", y=0.035)\n",
        "f.tight_layout(rect=[0.05, 0.05, 0.95, 0.95])\n",
        "\n",
        "plt.show()"
      ],
      "execution_count": 0,
      "outputs": []
    },
    {
      "cell_type": "markdown",
      "metadata": {
        "id": "CN5Mg6i-3-uX",
        "colab_type": "text"
      },
      "source": [
        "# Пример из книжки (стр. 28). Датасет: Ирисы"
      ]
    },
    {
      "cell_type": "code",
      "metadata": {
        "id": "Bq9d07Fa3-uY",
        "colab_type": "code",
        "colab": {}
      },
      "source": [
        "from sklearn.datasets import load_iris\n",
        "iris_dataset = load_iris()"
      ],
      "execution_count": 0,
      "outputs": []
    },
    {
      "cell_type": "code",
      "metadata": {
        "id": "2npNQYWy3-uf",
        "colab_type": "code",
        "colab": {}
      },
      "source": [
        "print(\"Ключи iris_dataset: \\n{}\".format(iris_dataset.keys()))"
      ],
      "execution_count": 0,
      "outputs": []
    },
    {
      "cell_type": "code",
      "metadata": {
        "id": "mTzEP7593-ul",
        "colab_type": "code",
        "colab": {}
      },
      "source": [
        "print(iris_dataset['DESCR'][:193] + \"\\n...\")"
      ],
      "execution_count": 0,
      "outputs": []
    },
    {
      "cell_type": "code",
      "metadata": {
        "id": "qxi8mZPD3-uz",
        "colab_type": "code",
        "colab": {}
      },
      "source": [
        "print(\"Названия ответов: {}\".format(iris_dataset['target_names']))"
      ],
      "execution_count": 0,
      "outputs": []
    },
    {
      "cell_type": "code",
      "metadata": {
        "id": "H1qBp4ED3-u7",
        "colab_type": "code",
        "colab": {}
      },
      "source": [
        "print(\"Названия признаков: \\n{}\".format(iris_dataset['feature_names']))"
      ],
      "execution_count": 0,
      "outputs": []
    },
    {
      "cell_type": "code",
      "metadata": {
        "id": "-q7Cm2h-3-vG",
        "colab_type": "code",
        "colab": {}
      },
      "source": [
        "print(\"Тип массива data: {}\".format(type(iris_dataset['data'])))"
      ],
      "execution_count": 0,
      "outputs": []
    },
    {
      "cell_type": "code",
      "metadata": {
        "id": "ItTGpCa13-vO",
        "colab_type": "code",
        "colab": {}
      },
      "source": [
        "print(\"Форма массива data: {}\".format(iris_dataset['data'].shape))"
      ],
      "execution_count": 0,
      "outputs": []
    },
    {
      "cell_type": "code",
      "metadata": {
        "id": "DuB66vCo3-vq",
        "colab_type": "code",
        "colab": {}
      },
      "source": [
        "print(\"Первые пять строк массива data:\\n{}\".format(iris_dataset['data'][:5]))"
      ],
      "execution_count": 0,
      "outputs": []
    },
    {
      "cell_type": "code",
      "metadata": {
        "id": "NgzxCeBZ3-wS",
        "colab_type": "code",
        "colab": {}
      },
      "source": [
        "print(\"Тип массива target: {}\".format(type(iris_dataset['target'])))\n",
        "print(\"Форма массива target: {}\".format(iris_dataset['target'].shape))\n"
      ],
      "execution_count": 0,
      "outputs": []
    },
    {
      "cell_type": "code",
      "metadata": {
        "id": "wKHppLKF3-wn",
        "colab_type": "code",
        "colab": {}
      },
      "source": [
        "print(\"Ответы:\\n{}\".format(iris_dataset['target']))"
      ],
      "execution_count": 0,
      "outputs": []
    },
    {
      "cell_type": "markdown",
      "metadata": {
        "id": "jp5f5q5R3-wu",
        "colab_type": "text"
      },
      "source": [
        "### Метрики эффективности модели"
      ]
    },
    {
      "cell_type": "code",
      "metadata": {
        "id": "q1Wy_ITN3-ww",
        "colab_type": "code",
        "colab": {}
      },
      "source": [
        "from sklearn.model_selection import train_test_split\n",
        "X_train, X_test, y_train, y_test = train_test_split(\n",
        "iris_dataset['data'], iris_dataset['target'], random_state=0)"
      ],
      "execution_count": 0,
      "outputs": []
    },
    {
      "cell_type": "code",
      "metadata": {
        "id": "CDMfl7rq3-w5",
        "colab_type": "code",
        "colab": {}
      },
      "source": [
        "print(\"форма массива X_train: {}\".format(X_train.shape))\n",
        "print(\"форма массива y_train: {}\".format(y_train.shape))"
      ],
      "execution_count": 0,
      "outputs": []
    },
    {
      "cell_type": "code",
      "metadata": {
        "id": "-ASdzMfS3-w-",
        "colab_type": "code",
        "colab": {}
      },
      "source": [
        "print(\"форма массива X_test: {}\".format(X_test.shape))\n",
        "print(\"форма массива y_test: {}\".format(y_test.shape))"
      ],
      "execution_count": 0,
      "outputs": []
    },
    {
      "cell_type": "code",
      "metadata": {
        "id": "ErW-46U-3-xH",
        "colab_type": "code",
        "colab": {}
      },
      "source": [
        "# создаем dataframe из данных в массиве X_train\n",
        "# маркируем столбцы, используя строки в iris_dataset.feature_names\n",
        "iris_dataframe = pd.DataFrame(X_train, columns=iris_dataset.feature_names)\n",
        "# создаем матрицу рассеяния из dataframe, цвет точек задаем с помощью y_train\n",
        "grr = pd.plotting.scatter_matrix(iris_dataframe, c=y_train, figsize=(15, 15), marker='o',\n",
        "    hist_kwds={'bins': 20}, s=60, alpha=.8)"
      ],
      "execution_count": 0,
      "outputs": []
    },
    {
      "cell_type": "markdown",
      "metadata": {
        "id": "_AI0awNg3-xL",
        "colab_type": "text"
      },
      "source": [
        "### Построение модели"
      ]
    },
    {
      "cell_type": "code",
      "metadata": {
        "id": "JsyEi_6N3-xP",
        "colab_type": "code",
        "colab": {}
      },
      "source": [
        "from sklearn.neighbors import KNeighborsClassifier\n",
        "knn = KNeighborsClassifier(n_neighbors=1)\n",
        "knn.fit(X_train, y_train)\n"
      ],
      "execution_count": 0,
      "outputs": []
    },
    {
      "cell_type": "code",
      "metadata": {
        "id": "q8YpEBgi3-xW",
        "colab_type": "code",
        "colab": {}
      },
      "source": [
        "print(\"Правильность на тестовом наборе: {:.2f}\".format(knn.score(X_test, y_test)))"
      ],
      "execution_count": 0,
      "outputs": []
    },
    {
      "cell_type": "markdown",
      "metadata": {
        "id": "KlTE7b5H3-xc",
        "colab_type": "text"
      },
      "source": [
        "### Получение прогнозов\n",
        "Теперь мы можем получить прогнозы, применив эту модель к новым\n",
        "данным, по которым мы еще не знаем правильные метки."
      ]
    },
    {
      "cell_type": "code",
      "metadata": {
        "id": "Q5zVezel3-xf",
        "colab_type": "code",
        "colab": {}
      },
      "source": [
        "X_new = np.array([[5, 2.9, 1, 0.2]])# Создадим новый набор данных/Обратите внимание, что мы записали измерения по одному цветку в\n",
        "                                    #двумерный массив NumPy, поскольку scikit-learn работает с\n",
        "                                    #двумерными массивами данных.\n",
        "print(\"форма массива X_new: {}\".format(X_new.shape))"
      ],
      "execution_count": 0,
      "outputs": []
    },
    {
      "cell_type": "code",
      "metadata": {
        "id": "OvF0izqN3-xl",
        "colab_type": "code",
        "colab": {}
      },
      "source": [
        "# Чтобы сделать прогноз, мы вызываем метод predict объекта knn:\n",
        "prediction = knn.predict(X_new)\n",
        "print(\"Прогноз: {}\".format(prediction))\n",
        "print(\"Спрогнозированная метка: {}\".format(\n",
        "iris_dataset['target_names'][prediction]))"
      ],
      "execution_count": 0,
      "outputs": []
    },
    {
      "cell_type": "markdown",
      "metadata": {
        "id": "L4gu0uco3-xq",
        "colab_type": "text"
      },
      "source": [
        "### Оценка качества модели (стр. 37)\n",
        "Таким образом, мы можем сделать прогноз для каждого ириса в\n",
        "тестовом наборе и сравнить его с фактической меткой (уже известным\n",
        "сортом). Мы можем оценить качество модели, вычислив правильность\n",
        "(accuracy) – процент цветов, для которых модель правильно\n",
        "спрогнозировала сорта:"
      ]
    },
    {
      "cell_type": "code",
      "metadata": {
        "scrolled": true,
        "id": "LmBiMhpc3-xr",
        "colab_type": "code",
        "colab": {}
      },
      "source": [
        "y_pred = knn.predict(X_test)\n",
        "print(\"Прогнозы для тестового набора:\\n {}\".format(y_pred))\n",
        "print(\"Правильность на тестовом наборе: {:.2f}\".format(np.mean(y_pred == y_test)))"
      ],
      "execution_count": 0,
      "outputs": []
    },
    {
      "cell_type": "code",
      "metadata": {
        "id": "OUfvkIVw3-xw",
        "colab_type": "code",
        "colab": {}
      },
      "source": [
        ""
      ],
      "execution_count": 0,
      "outputs": []
    }
  ]
}